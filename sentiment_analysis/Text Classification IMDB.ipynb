{
 "cells": [
  {
   "cell_type": "markdown",
   "id": "ebf90e22-2f5c-483f-8583-991af89cd70e",
   "metadata": {},
   "source": [
    "### IMDB Movie Reviews Classification using DistilBERT"
   ]
  },
  {
   "cell_type": "markdown",
   "id": "3e1f11ea-61a4-4231-bf05-ded7902f5508",
   "metadata": {},
   "source": [
    "### Import Libraries"
   ]
  },
  {
   "cell_type": "code",
   "execution_count": 1,
   "id": "d2efb1f2-129e-4a16-bb06-799af3c6e686",
   "metadata": {},
   "outputs": [],
   "source": [
    "import numpy as np\n",
    "import torch\n",
    "import evaluate\n",
    "import warnings\n",
    "warnings.filterwarnings(\"ignore\")\n",
    "\n",
    "# hugging face libs\n",
    "from datasets import load_dataset\n",
    "from transformers import pipeline\n",
    "from transformers import AutoTokenizer\n",
    "from transformers import DataCollatorWithPadding\n",
    "from transformers import get_scheduler\n",
    "from transformers import AutoModelForSequenceClassification\n",
    "from tqdm.auto import tqdm\n",
    "\n",
    "from torch.optim import AdamW\n",
    "from torch.utils.data import DataLoader"
   ]
  },
  {
   "cell_type": "markdown",
   "id": "61c37a72-ca47-49af-8a30-a0e48da51496",
   "metadata": {},
   "source": [
    "### Load Dataset"
   ]
  },
  {
   "cell_type": "code",
   "execution_count": 4,
   "id": "b2c3bddb-e83c-494e-a381-23c024ab3221",
   "metadata": {},
   "outputs": [],
   "source": [
    "imdb = load_dataset(\"imdb\")"
   ]
  },
  {
   "cell_type": "markdown",
   "id": "b55c3233-81d5-4291-b3da-8ed558a971c5",
   "metadata": {},
   "source": [
    "#### Example text with label"
   ]
  },
  {
   "cell_type": "code",
   "execution_count": 7,
   "id": "c1574569-a302-4953-8f78-5b5b71bd981c",
   "metadata": {},
   "outputs": [
    {
     "data": {
      "text/plain": [
       "{'text': 'I love sci-fi and am willing to put up with a lot. Sci-fi movies/TV are usually underfunded, under-appreciated and misunderstood. I tried to like this, I really did, but it is to good TV sci-fi as Babylon 5 is to Star Trek (the original). Silly prosthetics, cheap cardboard sets, stilted dialogues, CG that doesn\\'t match the background, and painfully one-dimensional characters cannot be overcome with a \\'sci-fi\\' setting. (I\\'m sure there are those of you out there who think Babylon 5 is good sci-fi TV. It\\'s not. It\\'s clichéd and uninspiring.) While US viewers might like emotion and character development, sci-fi is a genre that does not take itself seriously (cf. Star Trek). It may treat important issues, yet not as a serious philosophy. It\\'s really difficult to care about the characters here as they are not simply foolish, just missing a spark of life. Their actions and reactions are wooden and predictable, often painful to watch. The makers of Earth KNOW it\\'s rubbish as they have to always say \"Gene Roddenberry\\'s Earth...\" otherwise people would not continue watching. Roddenberry\\'s ashes must be turning in their orbit as this dull, cheap, poorly edited (watching it without advert breaks really brings this home) trudging Trabant of a show lumbers into space. Spoiler. So, kill off a main character. And then bring him back as another actor. Jeeez! Dallas all over again.',\n",
       " 'label': 0}"
      ]
     },
     "execution_count": 7,
     "metadata": {},
     "output_type": "execute_result"
    }
   ],
   "source": [
    "imdb[\"test\"][0]"
   ]
  },
  {
   "cell_type": "markdown",
   "id": "2cbbb14e-42f8-4979-8d8f-c933faa153e7",
   "metadata": {},
   "source": [
    "### Preprocessing"
   ]
  },
  {
   "cell_type": "markdown",
   "id": "c42bee04-4d67-4b0c-8ed1-4173e246bfe1",
   "metadata": {},
   "source": [
    "#### Tokenize text field by using a DistilBERT tokensizer"
   ]
  },
  {
   "cell_type": "code",
   "execution_count": 11,
   "id": "b41f1831-a767-4ac5-9d38-fc83b12ac150",
   "metadata": {},
   "outputs": [],
   "source": [
    "tokenizer = AutoTokenizer.from_pretrained(\"distilbert/distilbert-base-uncased\")"
   ]
  },
  {
   "cell_type": "markdown",
   "id": "584ac82b-33b9-4cde-8c31-9f571c6c2d64",
   "metadata": {},
   "source": [
    "#### Create a preprocessing function"
   ]
  },
  {
   "cell_type": "code",
   "execution_count": 19,
   "id": "a31b98b9-d073-4ea1-873b-70e402ce5c81",
   "metadata": {},
   "outputs": [],
   "source": [
    "def preprocess_function(examples):\n",
    "    return tokenizer(examples[\"text\"], padding=True, truncation=True, return_tensors = \"pt\")"
   ]
  },
  {
   "cell_type": "code",
   "execution_count": 21,
   "id": "f5885f8c-61b0-43c3-99d9-c45c361ee654",
   "metadata": {},
   "outputs": [
    {
     "data": {
      "application/vnd.jupyter.widget-view+json": {
       "model_id": "621b07992bb24c0eb5ac493cd12fb46a",
       "version_major": 2,
       "version_minor": 0
      },
      "text/plain": [
       "Map:   0%|          | 0/25000 [00:00<?, ? examples/s]"
      ]
     },
     "metadata": {},
     "output_type": "display_data"
    },
    {
     "data": {
      "application/vnd.jupyter.widget-view+json": {
       "model_id": "dc9a58de4f614932921188e86d747d8b",
       "version_major": 2,
       "version_minor": 0
      },
      "text/plain": [
       "Map:   0%|          | 0/25000 [00:00<?, ? examples/s]"
      ]
     },
     "metadata": {},
     "output_type": "display_data"
    },
    {
     "data": {
      "application/vnd.jupyter.widget-view+json": {
       "model_id": "d4448ef278c24f12a98641e0335bf6b4",
       "version_major": 2,
       "version_minor": 0
      },
      "text/plain": [
       "Map:   0%|          | 0/50000 [00:00<?, ? examples/s]"
      ]
     },
     "metadata": {},
     "output_type": "display_data"
    }
   ],
   "source": [
    "tokenized_imdb = imdb.map(preprocess_function, batched=True)"
   ]
  },
  {
   "cell_type": "markdown",
   "id": "b8dba1ce-0bbf-4010-ad45-293372fe6831",
   "metadata": {},
   "source": [
    "#### Build tokens by padding them to match length of maximum sentence length of an item in IMDB dataset"
   ]
  },
  {
   "cell_type": "code",
   "execution_count": 24,
   "id": "3afeaff8-483d-426e-a553-f4b1603b0ee0",
   "metadata": {},
   "outputs": [],
   "source": [
    "data_collator = DataCollatorWithPadding(tokenizer=tokenizer)"
   ]
  },
  {
   "cell_type": "markdown",
   "id": "31f46044-f581-4573-ba7c-fe3171dc4718",
   "metadata": {},
   "source": [
    "### Compute Metrics"
   ]
  },
  {
   "cell_type": "markdown",
   "id": "b51b8b78-ec3e-4031-921c-4c39e6be159f",
   "metadata": {},
   "source": [
    "#### Load accuracy metric "
   ]
  },
  {
   "cell_type": "code",
   "execution_count": 32,
   "id": "da69923c-4fa2-4c35-afae-3f5b1f9074f0",
   "metadata": {},
   "outputs": [],
   "source": [
    "accuracy = evaluate.load(\"accuracy\")"
   ]
  },
  {
   "cell_type": "markdown",
   "id": "30509806-ab8d-4edc-80f3-c3f69d2e134c",
   "metadata": {},
   "source": [
    "#### Create a function that computes metrics to be pushed into the training loop (while re-training DistilBERT)"
   ]
  },
  {
   "cell_type": "code",
   "execution_count": 35,
   "id": "e9fad2a9-096d-4ac0-a1a0-7872d496bd7d",
   "metadata": {},
   "outputs": [],
   "source": [
    "def compute_metrics(eval_pred):\n",
    "    predictions, labels = eval_pred\n",
    "    predictions = np.argmax(predictions, axis=1)\n",
    "    return accuracy.compute(predictions=predictions, references=labels)"
   ]
  },
  {
   "cell_type": "markdown",
   "id": "2eaa9e35-a667-46bb-a74d-ba6795cce5f5",
   "metadata": {},
   "source": [
    "### Training"
   ]
  },
  {
   "cell_type": "code",
   "execution_count": 38,
   "id": "6cd9a9c4-ad37-492e-af58-d834f3918362",
   "metadata": {},
   "outputs": [],
   "source": [
    "torch.cuda.empty_cache()"
   ]
  },
  {
   "cell_type": "code",
   "execution_count": 40,
   "id": "e136b084-21f6-438e-87bc-8e43e03fa934",
   "metadata": {},
   "outputs": [],
   "source": [
    "tokenized_imdb = tokenized_imdb.remove_columns([\"text\"])"
   ]
  },
  {
   "cell_type": "markdown",
   "id": "c4d01c11-8966-4830-8dc9-8cb9b969088b",
   "metadata": {},
   "source": [
    "#### Rename the label column to \"labels\" because the model expects the argument to be named labels:"
   ]
  },
  {
   "cell_type": "code",
   "execution_count": 43,
   "id": "6339ad98-6af8-41a1-8428-2a38bf2b86cf",
   "metadata": {},
   "outputs": [],
   "source": [
    "tokenized_imdb = tokenized_imdb.rename_column(\"label\", \"labels\")"
   ]
  },
  {
   "cell_type": "markdown",
   "id": "5ce45c4b-03ef-482f-8390-feeefaecc193",
   "metadata": {},
   "source": [
    "#### Set the format of the dataset to return PyTorch tensors instead of lists:"
   ]
  },
  {
   "cell_type": "code",
   "execution_count": 46,
   "id": "08e5dab8-c5ad-49af-94d8-f312cb26a068",
   "metadata": {},
   "outputs": [],
   "source": [
    "tokenized_imdb.set_format(\"torch\")"
   ]
  },
  {
   "cell_type": "code",
   "execution_count": 48,
   "id": "8dea5b8f-5350-4392-9c36-0259027f7ca0",
   "metadata": {},
   "outputs": [
    {
     "data": {
      "text/plain": [
       "DatasetDict({\n",
       "    train: Dataset({\n",
       "        features: ['labels', 'input_ids', 'attention_mask'],\n",
       "        num_rows: 25000\n",
       "    })\n",
       "    test: Dataset({\n",
       "        features: ['labels', 'input_ids', 'attention_mask'],\n",
       "        num_rows: 25000\n",
       "    })\n",
       "    unsupervised: Dataset({\n",
       "        features: ['labels', 'input_ids', 'attention_mask'],\n",
       "        num_rows: 50000\n",
       "    })\n",
       "})"
      ]
     },
     "execution_count": 48,
     "metadata": {},
     "output_type": "execute_result"
    }
   ],
   "source": [
    "tokenized_imdb"
   ]
  },
  {
   "cell_type": "markdown",
   "id": "05ac93fb-af62-40ed-ad22-3320a35bf47f",
   "metadata": {},
   "source": [
    "#### Then create a smaller subset of the dataset as previously shown to speed up the fine-tuning"
   ]
  },
  {
   "cell_type": "code",
   "execution_count": 51,
   "id": "a96d25b0-585e-4d49-a341-16d19b9c6554",
   "metadata": {},
   "outputs": [],
   "source": [
    "small_train_dataset = tokenized_imdb[\"train\"].shuffle(seed=42).select(range(1000))"
   ]
  },
  {
   "cell_type": "code",
   "execution_count": 53,
   "id": "57555e54-4ae1-4093-bc0a-8327d609e151",
   "metadata": {},
   "outputs": [],
   "source": [
    "small_eval_dataset = tokenized_imdb[\"test\"].shuffle(seed=42).select(range(1000))"
   ]
  },
  {
   "cell_type": "code",
   "execution_count": 55,
   "id": "611c29f2-0480-4868-8385-598d5dee91d5",
   "metadata": {},
   "outputs": [
    {
     "data": {
      "text/plain": [
       "Dataset({\n",
       "    features: ['labels', 'input_ids', 'attention_mask'],\n",
       "    num_rows: 1000\n",
       "})"
      ]
     },
     "execution_count": 55,
     "metadata": {},
     "output_type": "execute_result"
    }
   ],
   "source": [
    "small_train_dataset"
   ]
  },
  {
   "cell_type": "code",
   "execution_count": 57,
   "id": "be27d957-ddb1-42cd-87cc-70abdb37382c",
   "metadata": {},
   "outputs": [
    {
     "data": {
      "text/plain": [
       "Dataset({\n",
       "    features: ['labels', 'input_ids', 'attention_mask'],\n",
       "    num_rows: 1000\n",
       "})"
      ]
     },
     "execution_count": 57,
     "metadata": {},
     "output_type": "execute_result"
    }
   ],
   "source": [
    "small_eval_dataset"
   ]
  },
  {
   "cell_type": "markdown",
   "id": "57f35b0b-b3d8-43b4-9a3f-171a86695527",
   "metadata": {},
   "source": [
    "### Data Loader"
   ]
  },
  {
   "cell_type": "markdown",
   "id": "140c4978-07df-4d19-9c9c-78a7466adaf2",
   "metadata": {},
   "source": [
    "#### Create a DataLoader for your training and test datasets so you can iterate over batches of data:"
   ]
  },
  {
   "cell_type": "code",
   "execution_count": 61,
   "id": "603a67c6-a884-42e3-bba3-8d6371fe4362",
   "metadata": {},
   "outputs": [],
   "source": [
    "train_dataloader = DataLoader(small_train_dataset, shuffle=True, batch_size=8)"
   ]
  },
  {
   "cell_type": "code",
   "execution_count": 63,
   "id": "81372fb6-c54b-4c7b-a818-0d2a52a04110",
   "metadata": {},
   "outputs": [],
   "source": [
    "eval_dataloader = DataLoader(small_eval_dataset, batch_size=8)"
   ]
  },
  {
   "cell_type": "markdown",
   "id": "f67d93f0-9185-4ebd-a623-919430aaea9c",
   "metadata": {},
   "source": [
    "#### Load your model with the number of expected labels:"
   ]
  },
  {
   "cell_type": "markdown",
   "id": "a41aaa0b-e56b-4e01-b472-b6de89ce52b6",
   "metadata": {},
   "source": [
    "#### Since we have labelled text (either Positive or Negative), we need to  map the ID to Label and Label to ID in our model as well"
   ]
  },
  {
   "cell_type": "code",
   "execution_count": 67,
   "id": "943c9235-4168-41c5-88f9-03905224f072",
   "metadata": {},
   "outputs": [],
   "source": [
    "id2label = {0: \"NEGATIVE\", 1: \"POSITIVE\"}\n",
    "label2id = {\"NEGATIVE\": 0, \"POSITIVE\": 1}"
   ]
  },
  {
   "cell_type": "code",
   "execution_count": 69,
   "id": "6edd1d4f-7f67-4c04-b499-aee8e4d36ce2",
   "metadata": {},
   "outputs": [
    {
     "name": "stderr",
     "output_type": "stream",
     "text": [
      "Some weights of DistilBertForSequenceClassification were not initialized from the model checkpoint at distilbert/distilbert-base-uncased and are newly initialized: ['classifier.bias', 'classifier.weight', 'pre_classifier.bias', 'pre_classifier.weight']\n",
      "You should probably TRAIN this model on a down-stream task to be able to use it for predictions and inference.\n"
     ]
    }
   ],
   "source": [
    "model = AutoModelForSequenceClassification.from_pretrained(\n",
    "    \"distilbert/distilbert-base-uncased\", num_labels=2, id2label=id2label, label2id=label2id)"
   ]
  },
  {
   "cell_type": "markdown",
   "id": "6d9de8bc-e7c4-4534-a785-3c8b7d9722b5",
   "metadata": {},
   "source": [
    "### Optimizer and learning rate scheduler"
   ]
  },
  {
   "cell_type": "markdown",
   "id": "cc1db794-67bd-49b0-bf04-efc7a741910d",
   "metadata": {},
   "source": [
    "#### Create an optimizer and learning rate scheduler to fine-tune the model. Let’s use the AdamW optimizer from PyTorch:"
   ]
  },
  {
   "cell_type": "code",
   "execution_count": 73,
   "id": "86c4aa86-3177-467a-8c78-94871a2bf625",
   "metadata": {},
   "outputs": [],
   "source": [
    "optimizer = AdamW(model.parameters(), lr=5e-5)"
   ]
  },
  {
   "cell_type": "markdown",
   "id": "83362395-085c-493f-9ee0-9659beac4c2f",
   "metadata": {},
   "source": [
    "#### Create the default learning rate scheduler from Trainer:"
   ]
  },
  {
   "cell_type": "code",
   "execution_count": 76,
   "id": "cd1ccb21-b7fc-46b2-aa37-c6d08ad26297",
   "metadata": {},
   "outputs": [],
   "source": [
    "num_epochs = 2\n",
    "num_training_steps = num_epochs * len(train_dataloader)\n",
    "lr_scheduler = get_scheduler(\n",
    "    name=\"linear\", optimizer=optimizer, num_warmup_steps=0, num_training_steps=num_training_steps\n",
    ")"
   ]
  },
  {
   "cell_type": "code",
   "execution_count": 78,
   "id": "50caac66-8dd4-4d90-beca-be3f92341b69",
   "metadata": {},
   "outputs": [],
   "source": [
    "device = torch.device(\"cuda\") if torch.cuda.is_available() else torch.device(\"cpu\")"
   ]
  },
  {
   "cell_type": "code",
   "execution_count": 80,
   "id": "f1e80daa-32cf-422f-ab81-bdf0c0ab7fac",
   "metadata": {},
   "outputs": [
    {
     "data": {
      "text/plain": [
       "DistilBertForSequenceClassification(\n",
       "  (distilbert): DistilBertModel(\n",
       "    (embeddings): Embeddings(\n",
       "      (word_embeddings): Embedding(30522, 768, padding_idx=0)\n",
       "      (position_embeddings): Embedding(512, 768)\n",
       "      (LayerNorm): LayerNorm((768,), eps=1e-12, elementwise_affine=True)\n",
       "      (dropout): Dropout(p=0.1, inplace=False)\n",
       "    )\n",
       "    (transformer): Transformer(\n",
       "      (layer): ModuleList(\n",
       "        (0-5): 6 x TransformerBlock(\n",
       "          (attention): MultiHeadSelfAttention(\n",
       "            (dropout): Dropout(p=0.1, inplace=False)\n",
       "            (q_lin): Linear(in_features=768, out_features=768, bias=True)\n",
       "            (k_lin): Linear(in_features=768, out_features=768, bias=True)\n",
       "            (v_lin): Linear(in_features=768, out_features=768, bias=True)\n",
       "            (out_lin): Linear(in_features=768, out_features=768, bias=True)\n",
       "          )\n",
       "          (sa_layer_norm): LayerNorm((768,), eps=1e-12, elementwise_affine=True)\n",
       "          (ffn): FFN(\n",
       "            (dropout): Dropout(p=0.1, inplace=False)\n",
       "            (lin1): Linear(in_features=768, out_features=3072, bias=True)\n",
       "            (lin2): Linear(in_features=3072, out_features=768, bias=True)\n",
       "            (activation): GELUActivation()\n",
       "          )\n",
       "          (output_layer_norm): LayerNorm((768,), eps=1e-12, elementwise_affine=True)\n",
       "        )\n",
       "      )\n",
       "    )\n",
       "  )\n",
       "  (pre_classifier): Linear(in_features=768, out_features=768, bias=True)\n",
       "  (classifier): Linear(in_features=768, out_features=2, bias=True)\n",
       "  (dropout): Dropout(p=0.2, inplace=False)\n",
       ")"
      ]
     },
     "execution_count": 80,
     "metadata": {},
     "output_type": "execute_result"
    }
   ],
   "source": [
    "model.to(device)"
   ]
  },
  {
   "cell_type": "code",
   "execution_count": 82,
   "id": "d08adcc5-6e3b-4c59-a5c1-ea85fc99093d",
   "metadata": {},
   "outputs": [
    {
     "data": {
      "application/vnd.jupyter.widget-view+json": {
       "model_id": "d42d7887b9d84ad785aab329e15a1e93",
       "version_major": 2,
       "version_minor": 0
      },
      "text/plain": [
       "  0%|          | 0/250 [00:00<?, ?it/s]"
      ]
     },
     "metadata": {},
     "output_type": "display_data"
    }
   ],
   "source": [
    "progress_bar = tqdm(range(num_training_steps))\n",
    "model.train()\n",
    "\n",
    "for epoch in range(num_epochs):\n",
    "    for batch in train_dataloader:\n",
    "        batch = {k: v.to(device) for k, v in batch.items()}\n",
    "        outputs = model(**batch)\n",
    "        loss = outputs.loss\n",
    "        loss.backward()\n",
    "\n",
    "        optimizer.step()\n",
    "        lr_scheduler.step()\n",
    "        optimizer.zero_grad()\n",
    "        progress_bar.update(1)"
   ]
  },
  {
   "cell_type": "code",
   "execution_count": 83,
   "id": "c601cd4c-3bec-4f72-b64f-523aa2c5c1b6",
   "metadata": {},
   "outputs": [],
   "source": [
    "metric = evaluate.load(\"accuracy\")\n",
    "model.eval()\n",
    "for batch in eval_dataloader:\n",
    "    batch = {k: v.to(device) for k, v in batch.items()}\n",
    "    with torch.no_grad():\n",
    "        outputs = model(**batch)\n",
    "\n",
    "    logits = outputs.logits\n",
    "    predictions = torch.argmax(logits, dim=-1)\n",
    "    metric.add_batch(predictions=predictions, references=batch[\"labels\"])"
   ]
  },
  {
   "cell_type": "code",
   "execution_count": 84,
   "id": "7c1f1029-3fa9-4f8f-86d9-271dbd77ab8b",
   "metadata": {},
   "outputs": [
    {
     "data": {
      "text/plain": [
       "{'accuracy': 0.872}"
      ]
     },
     "execution_count": 84,
     "metadata": {},
     "output_type": "execute_result"
    }
   ],
   "source": [
    "metric.compute()"
   ]
  },
  {
   "cell_type": "code",
   "execution_count": null,
   "id": "d7c71f38-2346-45af-b7c9-f4f84925740e",
   "metadata": {},
   "outputs": [],
   "source": []
  }
 ],
 "metadata": {
  "kernelspec": {
   "display_name": "Python 3 (ipykernel)",
   "language": "python",
   "name": "python3"
  },
  "language_info": {
   "codemirror_mode": {
    "name": "ipython",
    "version": 3
   },
   "file_extension": ".py",
   "mimetype": "text/x-python",
   "name": "python",
   "nbconvert_exporter": "python",
   "pygments_lexer": "ipython3",
   "version": "3.11.7"
  }
 },
 "nbformat": 4,
 "nbformat_minor": 5
}

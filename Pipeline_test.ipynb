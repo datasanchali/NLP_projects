{
 "cells": [
  {
   "cell_type": "markdown",
   "id": "125b9132-fa74-4e18-88ee-09fdce505eb2",
   "metadata": {},
   "source": [
    "# Sentiment Analysis"
   ]
  },
  {
   "cell_type": "code",
   "execution_count": 1,
   "id": "e0b3ca3f-dd71-4d1e-a736-f608914a31ee",
   "metadata": {},
   "outputs": [],
   "source": [
    "import torch"
   ]
  },
  {
   "cell_type": "code",
   "execution_count": 3,
   "id": "dc568b4e-b6b6-4d81-9465-a2008f0cda0b",
   "metadata": {},
   "outputs": [],
   "source": [
    "from transformers import pipeline"
   ]
  },
  {
   "cell_type": "code",
   "execution_count": 17,
   "id": "b7f49939-87d0-4cdc-911a-a285f472a6b5",
   "metadata": {},
   "outputs": [
    {
     "name": "stderr",
     "output_type": "stream",
     "text": [
      "No model was supplied, defaulted to distilbert/distilbert-base-uncased-finetuned-sst-2-english and revision af0f99b (https://huggingface.co/distilbert/distilbert-base-uncased-finetuned-sst-2-english).\n",
      "Using a pipeline without specifying a model name and revision in production is not recommended.\n"
     ]
    }
   ],
   "source": [
    "classifier = pipeline(\"sentiment-analysis\")"
   ]
  },
  {
   "cell_type": "code",
   "execution_count": 42,
   "id": "b84ed6f5-5200-48e9-a6b5-19c09adebe67",
   "metadata": {},
   "outputs": [],
   "source": [
    "res = classifier(\"Aditya is a silly person. I find him so funny\")"
   ]
  },
  {
   "cell_type": "code",
   "execution_count": 44,
   "id": "4cf81f10-4e8e-4242-b055-60d3df14fe10",
   "metadata": {},
   "outputs": [
    {
     "name": "stdout",
     "output_type": "stream",
     "text": [
      "[{'label': 'POSITIVE', 'score': 0.998571515083313}]\n"
     ]
    }
   ],
   "source": [
    "print(res)"
   ]
  },
  {
   "cell_type": "markdown",
   "id": "7a19cc07-ca21-450d-91ea-e9442ff6e017",
   "metadata": {},
   "source": [
    "## Text Generation"
   ]
  },
  {
   "cell_type": "code",
   "execution_count": 52,
   "id": "09d2d30e-cbd9-43fa-a146-dd99f8e0a756",
   "metadata": {},
   "outputs": [
    {
     "data": {
      "application/vnd.jupyter.widget-view+json": {
       "model_id": "1902f4ba005f41fbbf55d2dc9d0dba65",
       "version_major": 2,
       "version_minor": 0
      },
      "text/plain": [
       "generation_config.json:   0%|          | 0.00/124 [00:00<?, ?B/s]"
      ]
     },
     "metadata": {},
     "output_type": "display_data"
    }
   ],
   "source": [
    "generation = pipeline(\"text-generation\", model=\"distilgpt2\")"
   ]
  },
  {
   "cell_type": "code",
   "execution_count": 94,
   "id": "3b8a120a-3584-4f97-8db9-73f44e3589f5",
   "metadata": {},
   "outputs": [
    {
     "name": "stderr",
     "output_type": "stream",
     "text": [
      "Setting `pad_token_id` to `eos_token_id`:50256 for open-end generation.\n"
     ]
    }
   ],
   "source": [
    "res = generation(\"My linkedin profile says about me that I am very intelligent and \", num_return_sequences = 1)"
   ]
  },
  {
   "cell_type": "code",
   "execution_count": 96,
   "id": "2a337cc9-1dbc-4518-bc36-0d588940d729",
   "metadata": {},
   "outputs": [
    {
     "name": "stdout",
     "output_type": "stream",
     "text": [
      "[{'generated_text': 'My linkedin profile says about me that I am very intelligent and \\xa0 the most likely in my life to make friends. As a non-profit I think that this is a major change. But as someone who has spent over a year helping clients'}]\n"
     ]
    }
   ],
   "source": [
    "print(res)"
   ]
  },
  {
   "cell_type": "markdown",
   "id": "1d92307f-b546-48d7-9d27-f943ee5d1dbd",
   "metadata": {},
   "source": [
    "## Zero-shot classifier"
   ]
  },
  {
   "cell_type": "code",
   "execution_count": 101,
   "id": "adb746b7-7c34-4946-a494-732e6b222fd5",
   "metadata": {},
   "outputs": [
    {
     "name": "stderr",
     "output_type": "stream",
     "text": [
      "No model was supplied, defaulted to facebook/bart-large-mnli and revision c626438 (https://huggingface.co/facebook/bart-large-mnli).\n",
      "Using a pipeline without specifying a model name and revision in production is not recommended.\n"
     ]
    },
    {
     "data": {
      "application/vnd.jupyter.widget-view+json": {
       "model_id": "d064255b8df044b0acb3b16ed7969478",
       "version_major": 2,
       "version_minor": 0
      },
      "text/plain": [
       "config.json:   0%|          | 0.00/1.15k [00:00<?, ?B/s]"
      ]
     },
     "metadata": {},
     "output_type": "display_data"
    },
    {
     "data": {
      "application/vnd.jupyter.widget-view+json": {
       "model_id": "282e8f29cc524e68b8b104a8f4101fe8",
       "version_major": 2,
       "version_minor": 0
      },
      "text/plain": [
       "model.safetensors:   0%|          | 0.00/1.63G [00:00<?, ?B/s]"
      ]
     },
     "metadata": {},
     "output_type": "display_data"
    },
    {
     "data": {
      "application/vnd.jupyter.widget-view+json": {
       "model_id": "16decf905c8741b79b478cb550ade6a8",
       "version_major": 2,
       "version_minor": 0
      },
      "text/plain": [
       "tokenizer_config.json:   0%|          | 0.00/26.0 [00:00<?, ?B/s]"
      ]
     },
     "metadata": {},
     "output_type": "display_data"
    },
    {
     "data": {
      "application/vnd.jupyter.widget-view+json": {
       "model_id": "93d89ddd8d514e0ea81055194a8c0490",
       "version_major": 2,
       "version_minor": 0
      },
      "text/plain": [
       "vocab.json:   0%|          | 0.00/899k [00:00<?, ?B/s]"
      ]
     },
     "metadata": {},
     "output_type": "display_data"
    },
    {
     "data": {
      "application/vnd.jupyter.widget-view+json": {
       "model_id": "ccedbddf80694e8da154cd84b08cef83",
       "version_major": 2,
       "version_minor": 0
      },
      "text/plain": [
       "merges.txt:   0%|          | 0.00/456k [00:00<?, ?B/s]"
      ]
     },
     "metadata": {},
     "output_type": "display_data"
    },
    {
     "data": {
      "application/vnd.jupyter.widget-view+json": {
       "model_id": "bb621fdb701a4d649118a7ceb1b82a62",
       "version_major": 2,
       "version_minor": 0
      },
      "text/plain": [
       "tokenizer.json:   0%|          | 0.00/1.36M [00:00<?, ?B/s]"
      ]
     },
     "metadata": {},
     "output_type": "display_data"
    }
   ],
   "source": [
    "zs_classifer = pipeline(\"zero-shot-classification\")"
   ]
  },
  {
   "cell_type": "code",
   "execution_count": 102,
   "id": "2e60b83b-aca7-4370-ac99-808148af6d65",
   "metadata": {},
   "outputs": [],
   "source": [
    "res = zs_classifer(\"taylor swift's concert was the most amazing experience of my life\",\n",
    "                   candidate_labels=[\"music\", \"education\", \"politics\"])"
   ]
  },
  {
   "cell_type": "code",
   "execution_count": 105,
   "id": "8f221ebc-3f2f-4995-9be9-664136bf45ba",
   "metadata": {},
   "outputs": [
    {
     "name": "stdout",
     "output_type": "stream",
     "text": [
      "{'sequence': \"taylor swift's concert was the most amazing experience of my life\", 'labels': ['music', 'education', 'politics'], 'scores': [0.990637481212616, 0.004998622927814722, 0.0043639312498271465]}\n"
     ]
    }
   ],
   "source": [
    "print(res)"
   ]
  },
  {
   "cell_type": "markdown",
   "id": "55539d07-2407-4fbc-9ae7-1eb19e4930d3",
   "metadata": {},
   "source": [
    "## Text Summarization - using model hub"
   ]
  },
  {
   "cell_type": "code",
   "execution_count": 113,
   "id": "1317888e-7387-44c8-b4c4-22676026f03f",
   "metadata": {},
   "outputs": [
    {
     "data": {
      "application/vnd.jupyter.widget-view+json": {
       "model_id": "ed6af41e1fa54ba9ad9cffe98c49f831",
       "version_major": 2,
       "version_minor": 0
      },
      "text/plain": [
       "config.json:   0%|          | 0.00/1.58k [00:00<?, ?B/s]"
      ]
     },
     "metadata": {},
     "output_type": "display_data"
    },
    {
     "data": {
      "application/vnd.jupyter.widget-view+json": {
       "model_id": "434a756eed3d47ad806d60429da59204",
       "version_major": 2,
       "version_minor": 0
      },
      "text/plain": [
       "model.safetensors:   0%|          | 0.00/1.63G [00:00<?, ?B/s]"
      ]
     },
     "metadata": {},
     "output_type": "display_data"
    },
    {
     "data": {
      "application/vnd.jupyter.widget-view+json": {
       "model_id": "da5981ad39c646f3b43c620075d8c240",
       "version_major": 2,
       "version_minor": 0
      },
      "text/plain": [
       "generation_config.json:   0%|          | 0.00/363 [00:00<?, ?B/s]"
      ]
     },
     "metadata": {},
     "output_type": "display_data"
    },
    {
     "data": {
      "application/vnd.jupyter.widget-view+json": {
       "model_id": "70fa6a35a26444adacc1e3101f088ef0",
       "version_major": 2,
       "version_minor": 0
      },
      "text/plain": [
       "vocab.json:   0%|          | 0.00/899k [00:00<?, ?B/s]"
      ]
     },
     "metadata": {},
     "output_type": "display_data"
    },
    {
     "data": {
      "application/vnd.jupyter.widget-view+json": {
       "model_id": "72a59abfa8064845ad84dda6e01edf60",
       "version_major": 2,
       "version_minor": 0
      },
      "text/plain": [
       "merges.txt:   0%|          | 0.00/456k [00:00<?, ?B/s]"
      ]
     },
     "metadata": {},
     "output_type": "display_data"
    },
    {
     "data": {
      "application/vnd.jupyter.widget-view+json": {
       "model_id": "f6dd80168e90412ab9dfb11027422494",
       "version_major": 2,
       "version_minor": 0
      },
      "text/plain": [
       "tokenizer.json:   0%|          | 0.00/1.36M [00:00<?, ?B/s]"
      ]
     },
     "metadata": {},
     "output_type": "display_data"
    }
   ],
   "source": [
    "summarizer = pipeline(\"summarization\", model=\"facebook/bart-large-cnn\")"
   ]
  },
  {
   "cell_type": "code",
   "execution_count": 137,
   "id": "83906103-6e54-467a-82b0-b7828cd99291",
   "metadata": {},
   "outputs": [],
   "source": [
    "article = \"\"\" Vice President Kamala Harris warned Wednesday that former President Donald Trump would not have “people like John Kelly” to curb his tendencies in a potential second term.\n",
    "\n",
    "“Donald Trump is increasingly unhinged and unstable, and in a second term, people like John Kelly would not be there to be the guardrails against his propensity and his actions,” Harris said at the Naval Observatory in Washington, referring to the former president’s onetime chief of staff.\n",
    "She continued, “Those who once tried to stop him from pursing his worst impulses would no longer be there and no longer be there to reign him in.”\n",
    "\n",
    "Following Harris’ remarks, Trump campaign spokesman Steven Cheung called the vice president a “stone-cold loser who is increasingly desperate because she is flailing,” suggesting in a statement that her “dangerous rhetoric” has put Trump’s safety at risk.\n",
    "\n",
    "Kelly, the retired Marine general who was Trump’s White House chief of staff between 2017 and 2019, said in a series of interviews published Tuesday that the former president fits “into the general definition of fascist” and wanted the “kind of generals Hitler had.”\n",
    "\n",
    "Harris’ response to Kelly’s remarks come with less than two weeks until Election Day as she continues to sharpen her message against her Republican rival and portray him as unfit for a second term.\n",
    "\n",
    "Harris is scheduled to participate in a CNN presidential town hall later today outside Philadelphia, where she will take questions from a live audience of undecided and persuadable voters.\n",
    "\"\"\"\n"
   ]
  },
  {
   "cell_type": "code",
   "execution_count": 141,
   "id": "23b0cb1f-e704-4271-9100-9748bea90c88",
   "metadata": {},
   "outputs": [
    {
     "name": "stdout",
     "output_type": "stream",
     "text": [
      "[{'summary_text': 'Vice President Kamala Harris said former President Donald Trump would not have “people like John Kelly’ to curb his tendencies in a potential second term. Trump campaign spokesman Steven Cheung called the vice president a “stone-cold loser who is increasingly desperate because she is flailing”'}]\n"
     ]
    }
   ],
   "source": [
    "print(summarizer(article, max_length=130, min_length=30, do_sample=False))"
   ]
  },
  {
   "cell_type": "code",
   "execution_count": null,
   "id": "949ee2bb-4677-4b8b-8892-aa89b1ff0f4c",
   "metadata": {},
   "outputs": [],
   "source": []
  }
 ],
 "metadata": {
  "kernelspec": {
   "display_name": "Python 3 (ipykernel)",
   "language": "python",
   "name": "python3"
  },
  "language_info": {
   "codemirror_mode": {
    "name": "ipython",
    "version": 3
   },
   "file_extension": ".py",
   "mimetype": "text/x-python",
   "name": "python",
   "nbconvert_exporter": "python",
   "pygments_lexer": "ipython3",
   "version": "3.11.7"
  }
 },
 "nbformat": 4,
 "nbformat_minor": 5
}
